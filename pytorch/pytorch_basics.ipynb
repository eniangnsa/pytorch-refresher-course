{
 "cells": [
  {
   "cell_type": "code",
   "execution_count": 2,
   "metadata": {},
   "outputs": [],
   "source": [
    "import torch\n",
    "import pandas as pd \n",
    "import numpy as np\n",
    "import matplotlib.pyplot as plt"
   ]
  },
  {
   "cell_type": "code",
   "execution_count": 3,
   "metadata": {},
   "outputs": [
    {
     "data": {
      "text/plain": [
       "tensor(7)"
      ]
     },
     "execution_count": 3,
     "metadata": {},
     "output_type": "execute_result"
    }
   ],
   "source": [
    "# Tensors refresher\n",
    "\n",
    "# create a tensor , a scaler to be more specific\n",
    "scaler  = torch.tensor(7)\n",
    "scaler"
   ]
  },
  {
   "cell_type": "code",
   "execution_count": 4,
   "metadata": {},
   "outputs": [
    {
     "data": {
      "text/plain": [
       "7"
      ]
     },
     "execution_count": 4,
     "metadata": {},
     "output_type": "execute_result"
    }
   ],
   "source": [
    "scaler.item()"
   ]
  },
  {
   "cell_type": "code",
   "execution_count": 5,
   "metadata": {},
   "outputs": [
    {
     "data": {
      "text/plain": [
       "0"
      ]
     },
     "execution_count": 5,
     "metadata": {},
     "output_type": "execute_result"
    }
   ],
   "source": [
    "scaler.ndim "
   ]
  },
  {
   "cell_type": "code",
   "execution_count": 6,
   "metadata": {},
   "outputs": [
    {
     "name": "stdout",
     "output_type": "stream",
     "text": [
      "1\n"
     ]
    }
   ],
   "source": [
    "## vector\n",
    "\n",
    "vector = torch.tensor([7,7])\n",
    "print(vector.ndim)"
   ]
  },
  {
   "cell_type": "code",
   "execution_count": 7,
   "metadata": {},
   "outputs": [
    {
     "data": {
      "text/plain": [
       "torch.Size([2])"
      ]
     },
     "execution_count": 7,
     "metadata": {},
     "output_type": "execute_result"
    }
   ],
   "source": [
    "vector.shape"
   ]
  },
  {
   "cell_type": "code",
   "execution_count": 8,
   "metadata": {},
   "outputs": [
    {
     "name": "stdout",
     "output_type": "stream",
     "text": [
      "the dimension is 2\n",
      "the shape is torch.Size([2, 2])\n"
     ]
    }
   ],
   "source": [
    "# Matrix creation\n",
    "\n",
    "matrix = torch.tensor([[7, 9],\n",
    "                       [10,11]])\n",
    "\n",
    "print(f\"the dimension is {matrix.ndim}\")\n",
    "print(f\"the shape is {matrix.shape}\")"
   ]
  },
  {
   "cell_type": "code",
   "execution_count": 9,
   "metadata": {},
   "outputs": [
    {
     "data": {
      "text/plain": [
       "tensor([[ 7,  9],\n",
       "        [10, 11]])"
      ]
     },
     "execution_count": 9,
     "metadata": {},
     "output_type": "execute_result"
    }
   ],
   "source": [
    "matrix"
   ]
  },
  {
   "cell_type": "code",
   "execution_count": 10,
   "metadata": {},
   "outputs": [
    {
     "name": "stdout",
     "output_type": "stream",
     "text": [
      "the dimension of the tensor is: 3\n",
      "the shape of the tensor is: torch.Size([1, 3, 3])\n"
     ]
    }
   ],
   "source": [
    "# Tensors now\n",
    "\n",
    "TENSORS = torch.tensor([[[1,2,3], [4,5,6], [7,8,9]]])\n",
    "print(f\"the dimension of the tensor is: {TENSORS.ndim}\")\n",
    "print(f\"the shape of the tensor is: {TENSORS.shape}\")"
   ]
  },
  {
   "cell_type": "markdown",
   "metadata": {},
   "source": [
    "The smallest unit we can have is a scaler. which is just a number. then we can proceed to having a vector which basically has magnitude and direction. we can also move a step further by collecting these vectors to form a matrix. then finally a collection of these matrices can help us form a tensor. Tensors are very important in our work with deep learning especially when we're working with images"
   ]
  },
  {
   "cell_type": "code",
   "execution_count": 11,
   "metadata": {},
   "outputs": [
    {
     "data": {
      "text/plain": [
       "tensor([[1, 2, 3],\n",
       "        [4, 5, 6],\n",
       "        [7, 8, 9]])"
      ]
     },
     "execution_count": 11,
     "metadata": {},
     "output_type": "execute_result"
    }
   ],
   "source": [
    "TENSORS[0]"
   ]
  },
  {
   "cell_type": "code",
   "execution_count": 12,
   "metadata": {},
   "outputs": [
    {
     "data": {
      "text/plain": [
       "tensor([[[0.9487, 0.9232, 0.6741, 0.5938],\n",
       "         [0.8257, 0.2870, 0.5372, 0.9608],\n",
       "         [0.8082, 0.3049, 0.9447, 0.0116]],\n",
       "\n",
       "        [[0.1728, 0.6574, 0.9368, 0.7741],\n",
       "         [0.0765, 0.9216, 0.2743, 0.1189],\n",
       "         [0.9654, 0.1271, 0.2050, 0.3609]]])"
      ]
     },
     "execution_count": 12,
     "metadata": {},
     "output_type": "execute_result"
    }
   ],
   "source": [
    "## Random Tensors\n",
    "\n",
    "random_tensor = torch.rand(2,3,4)\n",
    "random_tensor"
   ]
  },
  {
   "cell_type": "code",
   "execution_count": 13,
   "metadata": {},
   "outputs": [
    {
     "data": {
      "text/plain": [
       "3"
      ]
     },
     "execution_count": 13,
     "metadata": {},
     "output_type": "execute_result"
    }
   ],
   "source": [
    "random_tensor.ndim"
   ]
  },
  {
   "cell_type": "code",
   "execution_count": 14,
   "metadata": {},
   "outputs": [
    {
     "data": {
      "text/plain": [
       "(torch.Size([3, 224, 224]), 3)"
      ]
     },
     "execution_count": 14,
     "metadata": {},
     "output_type": "execute_result"
    }
   ],
   "source": [
    "# create a random tensor with similar shape to an image tensor\n",
    "\n",
    "rand_image_size_tensor = torch.rand(size=(3,224,224)) # color channel(RGB), height and width\n",
    "rand_image_size_tensor.shape, rand_image_size_tensor.ndim"
   ]
  },
  {
   "cell_type": "markdown",
   "metadata": {},
   "source": [
    "### Why Tensors?\n",
    "\n",
    "` Neural networks start with random numbers, then adjust it after looking at data and repeat the process. so it's usually like this: random numbers -> look at data -> update random numbers -> repeat`"
   ]
  },
  {
   "cell_type": "code",
   "execution_count": 15,
   "metadata": {},
   "outputs": [
    {
     "data": {
      "text/plain": [
       "tensor([[0., 0., 0., 0.],\n",
       "        [0., 0., 0., 0.],\n",
       "        [0., 0., 0., 0.]])"
      ]
     },
     "execution_count": 15,
     "metadata": {},
     "output_type": "execute_result"
    }
   ],
   "source": [
    "## Zeros and Ones\n",
    "\n",
    "zeros = torch.zeros(size=(3,4))\n",
    "zeros"
   ]
  },
  {
   "cell_type": "code",
   "execution_count": 16,
   "metadata": {},
   "outputs": [
    {
     "data": {
      "text/plain": [
       "(tensor([[1., 1., 1., 1.],\n",
       "         [1., 1., 1., 1.],\n",
       "         [1., 1., 1., 1.]]),\n",
       " torch.float32)"
      ]
     },
     "execution_count": 16,
     "metadata": {},
     "output_type": "execute_result"
    }
   ],
   "source": [
    "# for ones\n",
    "ones = torch.ones(size=(3,4))\n",
    "ones, ones.dtype"
   ]
  },
  {
   "cell_type": "code",
   "execution_count": 17,
   "metadata": {},
   "outputs": [
    {
     "data": {
      "text/plain": [
       "tensor([0, 1, 2, 3, 4, 5, 6, 7, 8, 9])"
      ]
     },
     "execution_count": 17,
     "metadata": {},
     "output_type": "execute_result"
    }
   ],
   "source": [
    "# create a range  of tensors\n",
    "\n",
    "range_tensor = torch.arange(0, 10,1)\n",
    "range_tensor"
   ]
  },
  {
   "cell_type": "code",
   "execution_count": 18,
   "metadata": {},
   "outputs": [
    {
     "data": {
      "text/plain": [
       "tensor([0, 0, 0, 0, 0, 0, 0, 0, 0, 0])"
      ]
     },
     "execution_count": 18,
     "metadata": {},
     "output_type": "execute_result"
    }
   ],
   "source": [
    "# tensors like. i can create zeroes or ones tensors from an existing tensor if i \n",
    "# just want to replicate the size of the previous tensor in the new one\n",
    "\n",
    "ten_zeroes = torch.zeros_like(input=range_tensor)\n",
    "ten_zeroes"
   ]
  },
  {
   "cell_type": "markdown",
   "metadata": {},
   "source": [
    "## Tensor Data types\n",
    "\n",
    "**Note:** Tensors data types usually give errors when expressed in the wrong form.\n",
    "\n",
    "1. Tensors not right datatypes\n",
    "2. Tensors not right shape\n",
    "3. Tensors not on the right device\n",
    "\n",
    "The first error arises when we try to do an operation  with a tensor that is not in\n",
    "the supported or detected state.\n",
    "\n",
    "The second is the same error we would get say we try to multiply matrices of incompatible dimensions\n",
    "\n",
    "The third error arises if you're trying to do operations between tensors and they live in different devices. Say for example you have a tensor in the cpu and you're trying to carryout an operation with one on the gpu, it will definitely throw you an error"
   ]
  },
  {
   "cell_type": "code",
   "execution_count": 19,
   "metadata": {},
   "outputs": [
    {
     "data": {
      "text/plain": [
       "torch.float32"
      ]
     },
     "execution_count": 19,
     "metadata": {},
     "output_type": "execute_result"
    }
   ],
   "source": [
    "# Float 32 tensor\n",
    "float_32_tensor = torch.tensor([3.0,6.0,9.0],\n",
    "                               dtype=None,# by default it takes float 32\n",
    "                               device=None, # what device is your tensor on\n",
    "                               requires_grad=False)# whether to track gradients with this tensors operations\n",
    "float_32_tensor.dtype"
   ]
  },
  {
   "cell_type": "code",
   "execution_count": 20,
   "metadata": {},
   "outputs": [
    {
     "data": {
      "text/plain": [
       "tensor([3., 6., 9.], dtype=torch.float16)"
      ]
     },
     "execution_count": 20,
     "metadata": {},
     "output_type": "execute_result"
    }
   ],
   "source": [
    "# create a float 16 tensor\n",
    "float_16_tensors = float_32_tensor.type(torch.float16)\n",
    "float_16_tensors"
   ]
  },
  {
   "cell_type": "markdown",
   "metadata": {},
   "source": [
    "### Getting information from tensors\n",
    "\n",
    "1. To get the datatype from tensors use: `tensor.dtypes`\n",
    "2. To get the shape use : `tensor.shape`\n",
    "3. To get to know which device the tensor is on use `tensor.device`\n"
   ]
  },
  {
   "cell_type": "code",
   "execution_count": 21,
   "metadata": {},
   "outputs": [
    {
     "data": {
      "text/plain": [
       "tensor([[0.0634, 0.4171, 0.2408, 0.5835, 0.4716],\n",
       "        [0.0907, 0.5875, 0.1983, 0.1873, 0.5869],\n",
       "        [0.4295, 0.8759, 0.5973, 0.8371, 0.0198]])"
      ]
     },
     "execution_count": 21,
     "metadata": {},
     "output_type": "execute_result"
    }
   ],
   "source": [
    "# practice this with some random tensor\n",
    "practice_tensor = torch.rand(size=(3,5))\n",
    "practice_tensor"
   ]
  },
  {
   "cell_type": "code",
   "execution_count": 22,
   "metadata": {},
   "outputs": [
    {
     "name": "stdout",
     "output_type": "stream",
     "text": [
      "Datatype of the tensor: torch.float32\n",
      "Shape of the tensor: torch.Size([3, 5])\n",
      "Device where the tensor is located : cpu\n"
     ]
    }
   ],
   "source": [
    "# Get more information about the tensor from the attributes\n",
    "print(f\"Datatype of the tensor: {practice_tensor.dtype}\")\n",
    "print(f\"Shape of the tensor: {practice_tensor.shape}\")\n",
    "print(f\"Device where the tensor is located : {practice_tensor.device}\")"
   ]
  },
  {
   "cell_type": "markdown",
   "metadata": {},
   "source": [
    "### Manipulating Tensors, Tensor Operations.\n",
    "\n",
    "1. Addition\n",
    "2. Subtraction\n",
    "3. Multiplication\n",
    "4. Division\n",
    "5. Matrix Multiplication"
   ]
  },
  {
   "cell_type": "code",
   "execution_count": 23,
   "metadata": {},
   "outputs": [
    {
     "data": {
      "text/plain": [
       "tensor([101, 102, 103, 104])"
      ]
     },
     "execution_count": 23,
     "metadata": {},
     "output_type": "execute_result"
    }
   ],
   "source": [
    "# create  a tensor and add a number to it.\n",
    "tensor_1 = torch.tensor([1,2,3,4])\n",
    "tensor_1 + 100\n"
   ]
  },
  {
   "cell_type": "code",
   "execution_count": 24,
   "metadata": {},
   "outputs": [
    {
     "data": {
      "text/plain": [
       "tensor([10, 20, 30, 40])"
      ]
     },
     "execution_count": 24,
     "metadata": {},
     "output_type": "execute_result"
    }
   ],
   "source": [
    "# Multiply tensors\n",
    "tensor_2 = tensor_1 * 10\n",
    "tensor_2"
   ]
  },
  {
   "cell_type": "code",
   "execution_count": 25,
   "metadata": {},
   "outputs": [
    {
     "data": {
      "text/plain": [
       "tensor([10, 20, 30, 40])"
      ]
     },
     "execution_count": 25,
     "metadata": {},
     "output_type": "execute_result"
    }
   ],
   "source": [
    "# Torch in-built functions\n",
    "torch.mul(tensor_1, 10)"
   ]
  },
  {
   "cell_type": "code",
   "execution_count": 26,
   "metadata": {},
   "outputs": [
    {
     "data": {
      "text/plain": [
       "tensor([ 0, 10, 20, 30, 40, 50, 60, 70, 80, 90])"
      ]
     },
     "execution_count": 26,
     "metadata": {},
     "output_type": "execute_result"
    }
   ],
   "source": [
    "# Tensor aggregation\n",
    "\n",
    "x = torch.arange(0,100,10)\n",
    "x\n",
    " "
   ]
  },
  {
   "cell_type": "code",
   "execution_count": 27,
   "metadata": {},
   "outputs": [
    {
     "data": {
      "text/plain": [
       "(tensor(0), tensor(0))"
      ]
     },
     "execution_count": 27,
     "metadata": {},
     "output_type": "execute_result"
    }
   ],
   "source": [
    "# find the min value\n",
    "torch.min(x), x.min()"
   ]
  },
  {
   "cell_type": "code",
   "execution_count": 28,
   "metadata": {},
   "outputs": [
    {
     "data": {
      "text/plain": [
       "(tensor(90), tensor(90))"
      ]
     },
     "execution_count": 28,
     "metadata": {},
     "output_type": "execute_result"
    }
   ],
   "source": [
    "# find the max value\n",
    "torch.max(x), x.max()"
   ]
  },
  {
   "cell_type": "code",
   "execution_count": 29,
   "metadata": {},
   "outputs": [
    {
     "data": {
      "text/plain": [
       "(tensor(45.), tensor(45.))"
      ]
     },
     "execution_count": 29,
     "metadata": {},
     "output_type": "execute_result"
    }
   ],
   "source": [
    "# Find the mean\n",
    "# first this gave an error. because it doesnn't work with int64 which is said to be the long\n",
    "# to solve this, we need to convert it float32\n",
    "torch.mean(x.type(torch.float32)), x.type(torch.float32).mean()\n",
    "\n",
    "# the torch.mean() requires a datatype of float32"
   ]
  },
  {
   "cell_type": "code",
   "execution_count": 30,
   "metadata": {},
   "outputs": [
    {
     "data": {
      "text/plain": [
       "(tensor(450), tensor(450))"
      ]
     },
     "execution_count": 30,
     "metadata": {},
     "output_type": "execute_result"
    }
   ],
   "source": [
    "# Find the sum\n",
    "torch.sum(x), x.sum()"
   ]
  },
  {
   "cell_type": "code",
   "execution_count": 31,
   "metadata": {},
   "outputs": [],
   "source": [
    "# argmax and argmin find the position of the max and min values of a tensor."
   ]
  },
  {
   "cell_type": "markdown",
   "metadata": {},
   "source": [
    "### other operations we can do on our tensors are:\n",
    "1. Reshape\n",
    "2. View\n",
    "3. Stacking - combining multiple tensor on top of each other or side by side\n",
    "4. Squeeze - remove all `1` dimensions from a tensor\n",
    "5. Unsqueeze - add a `1` dimension to a target tensor\n",
    "6. permute - Return a view of the input with dimensions permuted(swapped) in a certain way"
   ]
  },
  {
   "cell_type": "code",
   "execution_count": 32,
   "metadata": {},
   "outputs": [
    {
     "data": {
      "text/plain": [
       "(tensor([ 1,  2,  3,  4,  5,  6,  7,  8,  9, 10]),\n",
       " tensor([[ 1,  1,  1],\n",
       "         [ 2,  2,  2],\n",
       "         [ 3,  3,  3],\n",
       "         [ 4,  4,  4],\n",
       "         [ 5,  5,  5],\n",
       "         [ 6,  6,  6],\n",
       "         [ 7,  7,  7],\n",
       "         [ 8,  8,  8],\n",
       "         [ 9,  9,  9],\n",
       "         [10, 10, 10]]))"
      ]
     },
     "execution_count": 32,
     "metadata": {},
     "output_type": "execute_result"
    }
   ],
   "source": [
    "x = torch.arange(1,11)\n",
    "x_stacked = torch.stack([x,x,x], dim=1)\n",
    "x, x_stacked"
   ]
  },
  {
   "cell_type": "code",
   "execution_count": 33,
   "metadata": {},
   "outputs": [
    {
     "data": {
      "text/plain": [
       "(torch.Size([10]), torch.Size([1, 10]))"
      ]
     },
     "execution_count": 33,
     "metadata": {},
     "output_type": "execute_result"
    }
   ],
   "source": [
    "# squeeze and unsqueeze\n",
    "x_squeezed = torch.squeeze(x)\n",
    "x_unsqueezed = torch.unsqueeze(x,dim=0)\n",
    "\n",
    "x_squeezed.shape, x_unsqueezed.shape"
   ]
  },
  {
   "cell_type": "code",
   "execution_count": 34,
   "metadata": {},
   "outputs": [
    {
     "data": {
      "text/plain": [
       "torch.Size([2, 1, 2, 1, 2])"
      ]
     },
     "execution_count": 34,
     "metadata": {},
     "output_type": "execute_result"
    }
   ],
   "source": [
    "x_new = torch.zeros(2,1,2,1,2)\n",
    "x_new.size()"
   ]
  },
  {
   "cell_type": "code",
   "execution_count": 35,
   "metadata": {},
   "outputs": [
    {
     "data": {
      "text/plain": [
       "(torch.Size([2, 2, 2]),\n",
       " tensor([[[0., 0.],\n",
       "          [0., 0.]],\n",
       " \n",
       "         [[0., 0.],\n",
       "          [0., 0.]]]))"
      ]
     },
     "execution_count": 35,
     "metadata": {},
     "output_type": "execute_result"
    }
   ],
   "source": [
    "y = torch.squeeze(x_new)\n",
    "y.size(), y"
   ]
  },
  {
   "cell_type": "code",
   "execution_count": 36,
   "metadata": {},
   "outputs": [
    {
     "data": {
      "text/plain": [
       "torch.Size([2, 2, 1, 2])"
      ]
     },
     "execution_count": 36,
     "metadata": {},
     "output_type": "execute_result"
    }
   ],
   "source": [
    "y = torch.squeeze(x_new, 1)\n",
    "y.size()"
   ]
  },
  {
   "cell_type": "code",
   "execution_count": 37,
   "metadata": {},
   "outputs": [
    {
     "data": {
      "text/plain": [
       "torch.Size([2, 3, 5])"
      ]
     },
     "execution_count": 37,
     "metadata": {},
     "output_type": "execute_result"
    }
   ],
   "source": [
    "# torch.permute() - rearrages the dimensions of a target tensor in a specified order\n",
    "\n",
    "x = torch.rand(2,3,5)\n",
    "x.size()"
   ]
  },
  {
   "cell_type": "code",
   "execution_count": 38,
   "metadata": {},
   "outputs": [
    {
     "data": {
      "text/plain": [
       "torch.Size([5, 2, 3])"
      ]
     },
     "execution_count": 38,
     "metadata": {},
     "output_type": "execute_result"
    }
   ],
   "source": [
    "torch.permute(x,(2,0,1)).shape"
   ]
  },
  {
   "cell_type": "code",
   "execution_count": 39,
   "metadata": {},
   "outputs": [
    {
     "name": "stdout",
     "output_type": "stream",
     "text": [
      "The previous shape: torch.Size([224, 224, 3])\n",
      "The permuted shape is: torch.Size([3, 224, 224])\n"
     ]
    }
   ],
   "source": [
    "x_original = torch.rand(size=(224,224,3)) # [height, width, colour_channels]\n",
    "\n",
    "# permute the original tensor\n",
    "x_permuted = x_original.permute(2,1,0) # swapped axis 0 with 2, rearranged it.\n",
    "print(f\"The previous shape: {x_original.shape}\") # [height, width, color_channels]\n",
    "print(f\"The permuted shape is: {x_permuted.shape}\") # [color_channels, height, width]"
   ]
  },
  {
   "cell_type": "code",
   "execution_count": 40,
   "metadata": {},
   "outputs": [
    {
     "data": {
      "text/plain": [
       "(tensor([[[1, 2, 3],\n",
       "          [4, 5, 6],\n",
       "          [7, 8, 9]]]),\n",
       " torch.Size([1, 3, 3]))"
      ]
     },
     "execution_count": 40,
     "metadata": {},
     "output_type": "execute_result"
    }
   ],
   "source": [
    "# indexing of tensors\n",
    "x = torch.arange(1,10).reshape(1,3,3)\n",
    "x, x.shape"
   ]
  },
  {
   "cell_type": "code",
   "execution_count": 41,
   "metadata": {},
   "outputs": [
    {
     "data": {
      "text/plain": [
       "tensor([[[ 1,  2, 20],\n",
       "         [ 4,  5,  6],\n",
       "         [ 7,  8,  9]]])"
      ]
     },
     "execution_count": 41,
     "metadata": {},
     "output_type": "execute_result"
    }
   ],
   "source": [
    "# let's index and change a value within the tensor\n",
    "\n",
    "x[0][0][2] = 20\n",
    "x"
   ]
  },
  {
   "cell_type": "code",
   "execution_count": 42,
   "metadata": {},
   "outputs": [
    {
     "data": {
      "text/plain": [
       "tensor([[[ 1,  2, 30],\n",
       "         [ 4,  5,  6],\n",
       "         [ 7,  8,  9]]])"
      ]
     },
     "execution_count": 42,
     "metadata": {},
     "output_type": "execute_result"
    }
   ],
   "source": [
    "x[0,0,2] = 30\n",
    "x"
   ]
  },
  {
   "cell_type": "code",
   "execution_count": 43,
   "metadata": {},
   "outputs": [
    {
     "data": {
      "text/plain": [
       "tensor(9)"
      ]
     },
     "execution_count": 43,
     "metadata": {},
     "output_type": "execute_result"
    }
   ],
   "source": [
    "# get number 9 out from the tensor\n",
    "x[0,2,2]"
   ]
  },
  {
   "cell_type": "code",
   "execution_count": 44,
   "metadata": {},
   "outputs": [
    {
     "name": "stdout",
     "output_type": "stream",
     "text": [
      "this is the numpy array : int32\n",
      "This is the tensors from numpy: torch.int32\n"
     ]
    },
    {
     "data": {
      "text/plain": [
       "\"'\\nit is important to note that by default, the datatype for tensors is float32.\\nHowever we see int64 here because it is inheriting the default datatype of the\\nnumpy array it took.\\n\""
      ]
     },
     "execution_count": 44,
     "metadata": {},
     "output_type": "execute_result"
    }
   ],
   "source": [
    "# NumPy array to tensors\n",
    "arr = np.arange(1, 10)\n",
    "tensors = torch.from_numpy(arr)\n",
    "print(f\"this is the numpy array : {arr.dtype}\")\n",
    "print(f\"This is the tensors from numpy: {tensors.dtype}\")\n",
    "''''\n",
    "it is important to note that by default, the datatype for tensors is float32.\n",
    "However we see int64 here because it is inheriting the default datatype of the\n",
    "numpy array it took.\n",
    "'''"
   ]
  },
  {
   "cell_type": "code",
   "execution_count": 45,
   "metadata": {},
   "outputs": [
    {
     "name": "stdout",
     "output_type": "stream",
     "text": [
      "The datatype of the original tensor: torch.float32\n",
      "The datatype of the numpy is : float32\n"
     ]
    },
    {
     "data": {
      "text/plain": [
       "' \\nLike the previous case, the default data type for the numpy is inherited \\nfrom the previous one it was converted from.\\n'"
      ]
     },
     "execution_count": 45,
     "metadata": {},
     "output_type": "execute_result"
    }
   ],
   "source": [
    "# Tensor to NumPy\n",
    "tensor = torch.ones(7)\n",
    "numpy_tensor = tensor.numpy()\n",
    "print(f\"The datatype of the original tensor: {tensor.dtype}\")\n",
    "print(f\"The datatype of the numpy is : {numpy_tensor.dtype}\")\n",
    "''' \n",
    "Like the previous case, the default data type for the numpy is inherited \n",
    "from the previous one it was converted from.\n",
    "'''"
   ]
  },
  {
   "cell_type": "code",
   "execution_count": 46,
   "metadata": {},
   "outputs": [
    {
     "data": {
      "text/plain": [
       "False"
      ]
     },
     "execution_count": 46,
     "metadata": {},
     "output_type": "execute_result"
    }
   ],
   "source": [
    "# check for GPU access with pytorch\n",
    "torch.cuda.is_available()"
   ]
  },
  {
   "cell_type": "code",
   "execution_count": 47,
   "metadata": {},
   "outputs": [
    {
     "data": {
      "text/plain": [
       "'cpu'"
      ]
     },
     "execution_count": 47,
     "metadata": {},
     "output_type": "execute_result"
    }
   ],
   "source": [
    "# Setup device agnostic code\n",
    "device = \"cuda\" if torch.cuda.is_available() else \"cpu\"\n",
    "device"
   ]
  },
  {
   "cell_type": "markdown",
   "metadata": {},
   "source": [
    "It is worthy to note that if the tensor is on the GPU, we can't transform it to NumPy.\n",
    "\n",
    "First we need to copy the tensor to the cpu and then do the conversion there"
   ]
  },
  {
   "cell_type": "code",
   "execution_count": null,
   "metadata": {},
   "outputs": [],
   "source": []
  }
 ],
 "metadata": {
  "kernelspec": {
   "display_name": "base",
   "language": "python",
   "name": "python3"
  },
  "language_info": {
   "codemirror_mode": {
    "name": "ipython",
    "version": 3
   },
   "file_extension": ".py",
   "mimetype": "text/x-python",
   "name": "python",
   "nbconvert_exporter": "python",
   "pygments_lexer": "ipython3",
   "version": "3.11.9"
  }
 },
 "nbformat": 4,
 "nbformat_minor": 2
}
